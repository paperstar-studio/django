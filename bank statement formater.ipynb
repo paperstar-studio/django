{
 "cells": [
  {
   "cell_type": "code",
   "execution_count": 1,
   "id": "0abf8f9c",
   "metadata": {},
   "outputs": [],
   "source": [
    "import os\n",
    "import re\n",
    "import numpy as np\n",
    "import pandas as pd\n",
    "pd.set_option('display.max_rows', 500)\n",
    "from tabulate import tabulate\n",
    "from sqlalchemy import create_engine\n",
    "\n",
    "engine = create_engine(os.environ.get('POSTGRES_URI',''))"
   ]
  },
  {
   "cell_type": "markdown",
   "id": "61848c5e",
   "metadata": {},
   "source": [
    "```\n",
    "these next three cells filter by timestamp the information from a database table called 'bank' (originally sourced from my ELBA export) and summarize it further. thank you once more for covering my travel expenses and letting me submit them on my own time. I had great fun creating these few lines of code and sharing it with you :)\n",
    "```"
   ]
  },
  {
   "cell_type": "code",
   "execution_count": 2,
   "id": "95239164",
   "metadata": {},
   "outputs": [],
   "source": [
    "df = pd.read_sql(\"\"\"\n",
    "    SELECT date,amount,euro,timestamp,purpose FROM bank\n",
    "    WHERE \n",
    "    timestamp = '2024-10-28 09:42:33.167'\n",
    "    OR timestamp = '2024-10-26 06:57:32.914'\n",
    "    OR timestamp = '2024-10-26 06:57:31.565'\n",
    "    OR timestamp = '2024-10-26 06:57:26.501'\n",
    "    OR timestamp = '2024-10-28 07:03:15.189'\n",
    "    OR timestamp = '2024-10-11 13:42:50.416'\n",
    "    ORDER BY date DESC\n",
    "\"\"\", engine, dtype={'amount': np.float64})"
   ]
  },
  {
   "cell_type": "code",
   "execution_count": 3,
   "id": "73eeb630",
   "metadata": {},
   "outputs": [
    {
     "name": "stdout",
     "output_type": "stream",
     "text": [
      "\n",
      "\n",
      "\n",
      "\n",
      "\n",
      "\n"
     ]
    }
   ],
   "source": [
    "for i,r in df.iterrows():\n",
    "    print()\n",
    "    #print(f\"{i} - {re.sub(r\"\\s+\", \" \", r['purpose'])}\")\n",
    "    #print(f\"{r['date']} - {r['timestamp']} - {r['amount']} - {r['euro']}\\n\\n\")\n",
    "    "
   ]
  },
  {
   "cell_type": "code",
   "execution_count": 5,
   "id": "5405be03",
   "metadata": {},
   "outputs": [],
   "source": [
    "#print(f\"my travel related expenses are: {df.amount.sum()}\")"
   ]
  }
 ],
 "metadata": {
  "kernelspec": {
   "display_name": "Python 3 (ipykernel)",
   "language": "python",
   "name": "python3"
  },
  "language_info": {
   "codemirror_mode": {
    "name": "ipython",
    "version": 3
   },
   "file_extension": ".py",
   "mimetype": "text/x-python",
   "name": "python",
   "nbconvert_exporter": "python",
   "pygments_lexer": "ipython3",
   "version": "3.12.5"
  }
 },
 "nbformat": 4,
 "nbformat_minor": 5
}
